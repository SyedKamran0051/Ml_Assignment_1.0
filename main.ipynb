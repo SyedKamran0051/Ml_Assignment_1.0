{
 "cells": [
  {
   "cell_type": "code",
   "execution_count": 1,
   "metadata": {},
   "outputs": [],
   "source": [
    "from xml.etree.ElementTree import fromstring\n",
    "from pyspark.sql import SparkSession\n",
    "# from Transformers import data_aggregation, impute_mean, lagtransformer, logtransformer, negative_sales, test_train_split,antilogtransformer\n",
    "from Preprocessing.data_manipulation import DataPreparation\n",
    "from Transformers.data_aggregation import AggregateData\n",
    "from Transformers.impute_mean import ImputePrice\n",
    "from Transformers.negative_sales import NegativeSales\n",
    "from Transformers.logtransformer import Log\n",
    "from pyspark.ml import Pipeline\n",
    "from Transformers.scalar_na_filler import ScallerNAFiller\n",
    "from Transformers.lagtransformer import Lags\n",
    "from Transformers.test_train_split import Split\n",
    "from pyspark.ml.feature import VectorAssembler, StringIndexer\n",
    "from Evaluator.Mape import MAPE\n",
    "# Import VectorAssembler and Vectors\n",
    "from pyspark.ml.linalg import Vectors\n",
    "from pyspark.ml.feature import VectorAssembler\n",
    "from Estimator.random_forest import RandomForest\n",
    "from Evaluator.Mape import MAPE\n",
    "from Estimator.XGBoost import XGBoost"
   ]
  },
  {
   "cell_type": "code",
   "execution_count": 2,
   "metadata": {},
   "outputs": [],
   "source": [
    "if __name__ == \"__main__\":\n",
    "    spark = SparkSession \\\n",
    "        .builder \\\n",
    "        .appName(\"project_spark\") \\\n",
    "        .master(\"local[*]\") \\\n",
    "        .config(\"spark.driver.memory\", \"15g\")\\\n",
    "        .getOrCreate()"
   ]
  },
  {
   "cell_type": "code",
   "execution_count": 3,
   "metadata": {},
   "outputs": [],
   "source": [
    "data = DataPreparation()\n",
    "df = data.get_data()"
   ]
  },
  {
   "cell_type": "code",
   "execution_count": 4,
   "metadata": {},
   "outputs": [
    {
     "name": "stdout",
     "output_type": "stream",
     "text": [
      "+--------+-----------+--------+--------------------+-------+------+--------+-----+----------+---------+----+-----+----+-------------+------------+------------+------------+-------+-------+-------+----------+\n",
      "|store_id|    item_id|wm_yr_wk|                  id|dept_id|cat_id|state_id|sales|      date|  weekday|wday|month|year| event_name_1|event_type_1|event_name_2|event_type_2|snap_CA|snap_TX|snap_WI|sell_price|\n",
      "+--------+-----------+--------+--------------------+-------+------+--------+-----+----------+---------+----+-----+----+-------------+------------+------------+------------+-------+-------+-------+----------+\n",
      "|    WI_1|FOODS_1_001|   11507|FOODS_1_001_WI_1_...|FOODS_1| FOODS|      WI|    0|2015-03-14| Saturday|   1|    3|2015|         null|        null|        null|        null|      0|      0|      1|      2.24|\n",
      "|    WI_1|FOODS_1_001|   11507|FOODS_1_001_WI_1_...|FOODS_1| FOODS|      WI|    0|2015-03-15|   Sunday|   2|    3|2015|         null|        null|        null|        null|      0|      1|      1|      2.24|\n",
      "|    WI_1|FOODS_1_001|   11507|FOODS_1_001_WI_1_...|FOODS_1| FOODS|      WI|    0|2015-03-16|   Monday|   3|    3|2015|         null|        null|        null|        null|      0|      0|      0|      2.24|\n",
      "|    WI_1|FOODS_1_001|   11507|FOODS_1_001_WI_1_...|FOODS_1| FOODS|      WI|    1|2015-03-17|  Tuesday|   4|    3|2015|StPatricksDay|    Cultural|        null|        null|      0|      0|      0|      2.24|\n",
      "|    WI_1|FOODS_1_001|   11507|FOODS_1_001_WI_1_...|FOODS_1| FOODS|      WI|    0|2015-03-18|Wednesday|   5|    3|2015|         null|        null|        null|        null|      0|      0|      0|      2.24|\n",
      "+--------+-----------+--------+--------------------+-------+------+--------+-----+----------+---------+----+-----+----+-------------+------------+------------+------------+-------+-------+-------+----------+\n",
      "only showing top 5 rows\n",
      "\n"
     ]
    }
   ],
   "source": [
    "df = data.filter_store(df, \"WI_1\")\n",
    "df.show(5)"
   ]
  },
  {
   "cell_type": "code",
   "execution_count": 5,
   "metadata": {},
   "outputs": [
    {
     "data": {
      "text/plain": [
       "['store_id',\n",
       " 'item_id',\n",
       " 'wm_yr_wk',\n",
       " 'id',\n",
       " 'dept_id',\n",
       " 'cat_id',\n",
       " 'state_id',\n",
       " 'sales',\n",
       " 'date',\n",
       " 'weekday',\n",
       " 'wday',\n",
       " 'month',\n",
       " 'year',\n",
       " 'event_name_1',\n",
       " 'event_type_1',\n",
       " 'event_name_2',\n",
       " 'event_type_2',\n",
       " 'snap_CA',\n",
       " 'snap_TX',\n",
       " 'snap_WI',\n",
       " 'sell_price']"
      ]
     },
     "execution_count": 5,
     "metadata": {},
     "output_type": "execute_result"
    }
   ],
   "source": [
    "df.columns"
   ]
  },
  {
   "cell_type": "markdown",
   "metadata": {},
   "source": [
    "# Initiating different Transformers #"
   ]
  },
  {
   "cell_type": "code",
   "execution_count": 6,
   "metadata": {},
   "outputs": [],
   "source": [
    "imputeNegativePrice = ImputePrice()\n",
    "negativeSales = NegativeSales(column=\"sales\")\n",
    "aggregate = AggregateData(columns=[\"store_id\", \"dept_id\", \"year\", \"month\"],\n",
    "                                expressions={\"sales\": \"sum\",\n",
    "                                \"sell_price\": \"avg\",\n",
    "                                \"snap_WI\": \"sum\"})"
   ]
  },
  {
   "cell_type": "code",
   "execution_count": 7,
   "metadata": {},
   "outputs": [],
   "source": [
    "log_transform = Log(inputCols=[\"sales\",\"sell_price\"])"
   ]
  },
  {
   "cell_type": "code",
   "execution_count": 8,
   "metadata": {},
   "outputs": [],
   "source": [
    "lag_feature_transform = Lags(lags=[1,2,3], target=\"sales\", partitionBy=[\"store_id\",\"dept_id\"], orderBy=[\"year\", \"month\"])"
   ]
  },
  {
   "cell_type": "code",
   "execution_count": 9,
   "metadata": {},
   "outputs": [],
   "source": [
    "na_filler = ScallerNAFiller()"
   ]
  },
  {
   "cell_type": "code",
   "execution_count": 10,
   "metadata": {},
   "outputs": [],
   "source": [
    "storeIndexer = StringIndexer(inputCol=\"store_id\", outputCol=\"store_id_index\")\n",
    "yearIndexer = StringIndexer(inputCol=\"year\", outputCol=\"year_index\")"
   ]
  },
  {
   "cell_type": "code",
   "execution_count": 11,
   "metadata": {},
   "outputs": [],
   "source": [
    "inputColumns = ['month',\n",
    "        'sell_price',\n",
    "        'snap_WI',\n",
    "        'lag_1',\n",
    "        'lag_2',\n",
    "        'lag_3',\n",
    "        'store_id_index',\n",
    "        'year_index']\n",
    "assembler = VectorAssembler(inputCols=inputColumns, \n",
    "                                    outputCol=\"features\")"
   ]
  },
  {
   "cell_type": "markdown",
   "metadata": {},
   "source": [
    "#  Preprocessing/FeatureEngineering Pipeline Complete #"
   ]
  },
  {
   "cell_type": "code",
   "execution_count": 12,
   "metadata": {},
   "outputs": [],
   "source": [
    "transformed = Pipeline(stages=[imputeNegativePrice, negativeSales, aggregate, \n",
    "                       log_transform, lag_feature_transform, storeIndexer, yearIndexer, na_filler, assembler]).fit(df).transform(df)"
   ]
  },
  {
   "cell_type": "markdown",
   "metadata": {},
   "source": [
    "# Random Forest Training #"
   ]
  },
  {
   "cell_type": "code",
   "execution_count": 13,
   "metadata": {},
   "outputs": [],
   "source": [
    "spliting = DataPreparation()"
   ]
  },
  {
   "cell_type": "code",
   "execution_count": 14,
   "metadata": {},
   "outputs": [],
   "source": [
    "train_df, test_df = spliting.train_test_split(transformed, 2016)"
   ]
  },
  {
   "cell_type": "code",
   "execution_count": 31,
   "metadata": {},
   "outputs": [],
   "source": [
    "rfModel = RandomForest(featuresCol=\"features\", labelCol=\"sales\").fit(train_df)"
   ]
  },
  {
   "cell_type": "code",
   "execution_count": 32,
   "metadata": {},
   "outputs": [
    {
     "data": {
      "text/plain": [
       "['store_id',\n",
       " 'dept_id',\n",
       " 'year',\n",
       " 'month',\n",
       " 'sell_price',\n",
       " 'snap_WI',\n",
       " 'sales',\n",
       " 'lag_1',\n",
       " 'lag_2',\n",
       " 'lag_3',\n",
       " 'store_id_index',\n",
       " 'year_index',\n",
       " 'features',\n",
       " 'prediction']"
      ]
     },
     "execution_count": 32,
     "metadata": {},
     "output_type": "execute_result"
    }
   ],
   "source": [
    "rfModel.columns"
   ]
  },
  {
   "cell_type": "code",
   "execution_count": 33,
   "metadata": {},
   "outputs": [
    {
     "name": "stdout",
     "output_type": "stream",
     "text": [
      "+--------+----+-----------------+-----------------+\n",
      "|store_id|year|            sales|       prediction|\n",
      "+--------+----+-----------------+-----------------+\n",
      "|    WI_1|2015|8.448485993406447|8.299308821829937|\n",
      "|    WI_1|2015|8.445052513638554|8.486747116006214|\n",
      "|    WI_1|2015|8.589699882202986|8.499727021409225|\n",
      "|    WI_1|2015| 8.46695197497949|8.499727021409225|\n",
      "|    WI_1|2015|8.495765244002618|8.499727021409225|\n",
      "|    WI_1|2015|8.473868066677865|8.682446834072161|\n",
      "|    WI_1|2015|8.536799721055155|8.499727021409225|\n",
      "|    WI_1|2015|8.518991573357617|8.499727021409225|\n",
      "|    WI_1|2015|8.377011160816375|8.499727021409225|\n",
      "|    WI_1|2015|8.399085102935908| 8.50781892320288|\n",
      "+--------+----+-----------------+-----------------+\n",
      "only showing top 10 rows\n",
      "\n"
     ]
    }
   ],
   "source": [
    "rfModel.select([\"store_id\",\"year\",\"sales\",\"prediction\"]).show(10)"
   ]
  },
  {
   "cell_type": "code",
   "execution_count": 35,
   "metadata": {},
   "outputs": [],
   "source": [
    "Evaluator_mape = MAPE(predictionCol=\"prediction\", labelCol=\"sales\")"
   ]
  },
  {
   "cell_type": "code",
   "execution_count": 36,
   "metadata": {},
   "outputs": [],
   "source": [
    "evaluation = Evaluator_mape.evaluate(rfModel)"
   ]
  },
  {
   "cell_type": "code",
   "execution_count": 37,
   "metadata": {},
   "outputs": [
    {
     "name": "stdout",
     "output_type": "stream",
     "text": [
      "Evaluation matrix Score for RFMODEL: 0.01341233405185784\n"
     ]
    }
   ],
   "source": [
    "print(\"Evaluation matrix Score for RFMODEL:\", evaluation)"
   ]
  },
  {
   "cell_type": "markdown",
   "metadata": {},
   "source": [
    "# XGBOOST ESTIMATOR IMPLEMENTATION #"
   ]
  },
  {
   "cell_type": "code",
   "execution_count": 21,
   "metadata": {},
   "outputs": [
    {
     "name": "stdout",
     "output_type": "stream",
     "text": [
      "root\n",
      " |-- store_id: string (nullable = true)\n",
      " |-- dept_id: string (nullable = true)\n",
      " |-- year: integer (nullable = true)\n",
      " |-- month: integer (nullable = true)\n",
      " |-- sell_price: double (nullable = false)\n",
      " |-- snap_WI: long (nullable = true)\n",
      " |-- sales: double (nullable = false)\n",
      " |-- lag_1: double (nullable = false)\n",
      " |-- lag_2: double (nullable = false)\n",
      " |-- lag_3: double (nullable = false)\n",
      " |-- store_id_index: double (nullable = false)\n",
      " |-- year_index: double (nullable = false)\n",
      " |-- features: vector (nullable = true)\n",
      "\n"
     ]
    }
   ],
   "source": [
    "train_df.printSchema()"
   ]
  },
  {
   "cell_type": "code",
   "execution_count": 22,
   "metadata": {},
   "outputs": [],
   "source": [
    "XGBoostModel = XGBoost(inputCols=inputColumns, labelCol=\"sales\").fit(train_df)"
   ]
  },
  {
   "cell_type": "code",
   "execution_count": 23,
   "metadata": {},
   "outputs": [
    {
     "name": "stderr",
     "output_type": "stream",
     "text": [
      "C:\\Users\\muhammad.kamran01\\spark3\\python\\pyspark\\sql\\session.py:505: FutureWarning: iteritems is deprecated and will be removed in a future version. Use .items instead.\n",
      "  for column, series in pdf.iteritems():\n"
     ]
    }
   ],
   "source": [
    "pred = XGBoostModel.transform(test_df)"
   ]
  },
  {
   "cell_type": "code",
   "execution_count": 24,
   "metadata": {},
   "outputs": [
    {
     "name": "stdout",
     "output_type": "stream",
     "text": [
      "+-----+----+-----+------------------+------------------+\n",
      "|store|year|month|        prediction|            actual|\n",
      "+-----+----+-----+------------------+------------------+\n",
      "|  0.0| 5.0|    1|  9.59622573852539| 9.607033787697222|\n",
      "|  0.0| 5.0|    2| 9.203985214233398| 9.190647738630446|\n",
      "|  0.0| 5.0|    3| 9.421991348266602| 9.763363044441961|\n",
      "|  0.0| 5.0|    4| 9.182626724243164| 9.285726098882073|\n",
      "|  0.0| 5.0|    1| 8.666375160217285| 9.727525729694754|\n",
      "|  0.0| 5.0|    2| 7.343536853790283| 8.441607204459642|\n",
      "|  0.0| 5.0|    3| 8.536872863769531| 9.754697478950966|\n",
      "|  0.0| 5.0|    4| 8.854217529296875| 8.931155429778348|\n",
      "|  0.0| 5.0|    1|  7.92768669128418| 8.516793111394898|\n",
      "|  0.0| 5.0|    2| 8.364577293395996| 9.826822467600643|\n",
      "|  0.0| 5.0|    3| 9.656170845031738| 9.353747835270912|\n",
      "|  0.0| 5.0|    4| 7.531565189361572|6.7226297948554485|\n",
      "|  0.0| 5.0|    1|10.656360626220703| 9.920393832602487|\n",
      "|  0.0| 5.0|    2|11.167980194091797| 10.82017820443161|\n",
      "|  0.0| 5.0|    3|10.162330627441406| 9.053335623166017|\n",
      "|  0.0| 5.0|    4|10.025012016296387| 9.899077844047428|\n",
      "|  0.0| 5.0|    1|10.113859176635742| 8.432724034789787|\n",
      "|  0.0| 5.0|    2| 8.814543724060059|10.795977274224331|\n",
      "|  0.0| 5.0|    3| 8.479259490966797| 9.130864170474386|\n",
      "|  0.0| 5.0|    4| 9.104218482971191| 9.884508585938326|\n",
      "+-----+----+-----+------------------+------------------+\n",
      "only showing top 20 rows\n",
      "\n"
     ]
    }
   ],
   "source": [
    "pred.show()"
   ]
  },
  {
   "cell_type": "code",
   "execution_count": 26,
   "metadata": {},
   "outputs": [],
   "source": [
    "Evaluator_mape_xgBoost = MAPE(predictionCol=\"prediction\", labelCol=\"actual\")"
   ]
  },
  {
   "cell_type": "code",
   "execution_count": 28,
   "metadata": {},
   "outputs": [],
   "source": [
    "evaluation_xgb = Evaluator_mape_xgBoost.evaluate(pred)"
   ]
  },
  {
   "cell_type": "code",
   "execution_count": 30,
   "metadata": {},
   "outputs": [
    {
     "name": "stdout",
     "output_type": "stream",
     "text": [
      "Evaluation matrix Score for XGFMODEL: 0.13241363950334317\n"
     ]
    }
   ],
   "source": [
    "print(\"Evaluation matrix Score for XGFMODEL:\", evaluation_xgb)"
   ]
  }
 ],
 "metadata": {
  "kernelspec": {
   "display_name": "Python 3.9.13 64-bit",
   "language": "python",
   "name": "python3"
  },
  "language_info": {
   "codemirror_mode": {
    "name": "ipython",
    "version": 3
   },
   "file_extension": ".py",
   "mimetype": "text/x-python",
   "name": "python",
   "nbconvert_exporter": "python",
   "pygments_lexer": "ipython3",
   "version": "3.9.13"
  },
  "orig_nbformat": 4,
  "vscode": {
   "interpreter": {
    "hash": "1b93898b9253904288df13a2bfa30ad60602e1c62b3892988ef0a02f0b401d94"
   }
  }
 },
 "nbformat": 4,
 "nbformat_minor": 2
}
