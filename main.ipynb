{
 "cells": [
  {
   "cell_type": "code",
   "execution_count": 1,
   "metadata": {},
   "outputs": [],
   "source": [
    "from xml.etree.ElementTree import fromstring\n",
    "from pyspark.sql import SparkSession\n",
    "# from Transformers import data_aggregation, impute_mean, lagtransformer, logtransformer, negative_sales, test_train_split,antilogtransformer\n",
    "from Preprocessing.data_manipulation import DataPreparation\n",
    "from Transformers.data_aggregation import AggregateData\n",
    "from Transformers.impute_mean import ImputePrice\n",
    "from Transformers.negative_sales import NegativeSales\n",
    "from Transformers.logtransformer import Log\n",
    "from pyspark.ml import Pipeline\n",
    "from Transformers.scalar_na_filler import ScallerNAFiller\n",
    "from Transformers.lagtransformer import Lags\n",
    "from Transformers.test_train_split import Split\n",
    "from pyspark.ml.feature import VectorAssembler, StringIndexer\n",
    "from Evaluator.Mape import MAPE\n",
    "# Import VectorAssembler and Vectors\n",
    "from pyspark.ml.linalg import Vectors\n",
    "from pyspark.ml.feature import VectorAssembler\n",
    "from Estimator.random_forest import RandomForest"
   ]
  },
  {
   "cell_type": "code",
   "execution_count": 2,
   "metadata": {},
   "outputs": [],
   "source": [
    "if __name__ == \"__main__\":\n",
    "    spark = SparkSession \\\n",
    "        .builder \\\n",
    "        .appName(\"project_spark\") \\\n",
    "        .master(\"local[*]\") \\\n",
    "        .config(\"spark.driver.memory\", \"15g\")\\\n",
    "        .getOrCreate()"
   ]
  },
  {
   "cell_type": "code",
   "execution_count": 3,
   "metadata": {},
   "outputs": [],
   "source": [
    "data = DataPreparation()\n",
    "df = data.get_data()"
   ]
  },
  {
   "cell_type": "code",
   "execution_count": 4,
   "metadata": {},
   "outputs": [
    {
     "name": "stdout",
     "output_type": "stream",
     "text": [
      "+--------+-----------+--------+--------------------+-------+------+--------+-----+----------+---------+----+-----+----+-------------+------------+------------+------------+-------+-------+-------+----------+\n",
      "|store_id|    item_id|wm_yr_wk|                  id|dept_id|cat_id|state_id|sales|      date|  weekday|wday|month|year| event_name_1|event_type_1|event_name_2|event_type_2|snap_CA|snap_TX|snap_WI|sell_price|\n",
      "+--------+-----------+--------+--------------------+-------+------+--------+-----+----------+---------+----+-----+----+-------------+------------+------------+------------+-------+-------+-------+----------+\n",
      "|    WI_1|FOODS_1_001|   11507|FOODS_1_001_WI_1_...|FOODS_1| FOODS|      WI|    0|2015-03-14| Saturday|   1|    3|2015|         null|        null|        null|        null|      0|      0|      1|      2.24|\n",
      "|    WI_1|FOODS_1_001|   11507|FOODS_1_001_WI_1_...|FOODS_1| FOODS|      WI|    0|2015-03-15|   Sunday|   2|    3|2015|         null|        null|        null|        null|      0|      1|      1|      2.24|\n",
      "|    WI_1|FOODS_1_001|   11507|FOODS_1_001_WI_1_...|FOODS_1| FOODS|      WI|    0|2015-03-16|   Monday|   3|    3|2015|         null|        null|        null|        null|      0|      0|      0|      2.24|\n",
      "|    WI_1|FOODS_1_001|   11507|FOODS_1_001_WI_1_...|FOODS_1| FOODS|      WI|    1|2015-03-17|  Tuesday|   4|    3|2015|StPatricksDay|    Cultural|        null|        null|      0|      0|      0|      2.24|\n",
      "|    WI_1|FOODS_1_001|   11507|FOODS_1_001_WI_1_...|FOODS_1| FOODS|      WI|    0|2015-03-18|Wednesday|   5|    3|2015|         null|        null|        null|        null|      0|      0|      0|      2.24|\n",
      "+--------+-----------+--------+--------------------+-------+------+--------+-----+----------+---------+----+-----+----+-------------+------------+------------+------------+-------+-------+-------+----------+\n",
      "only showing top 5 rows\n",
      "\n"
     ]
    }
   ],
   "source": [
    "df = data.filter_store(df, \"WI_1\")\n",
    "df.show(5)"
   ]
  },
  {
   "cell_type": "code",
   "execution_count": 5,
   "metadata": {},
   "outputs": [
    {
     "data": {
      "text/plain": [
       "['store_id',\n",
       " 'item_id',\n",
       " 'wm_yr_wk',\n",
       " 'id',\n",
       " 'dept_id',\n",
       " 'cat_id',\n",
       " 'state_id',\n",
       " 'sales',\n",
       " 'date',\n",
       " 'weekday',\n",
       " 'wday',\n",
       " 'month',\n",
       " 'year',\n",
       " 'event_name_1',\n",
       " 'event_type_1',\n",
       " 'event_name_2',\n",
       " 'event_type_2',\n",
       " 'snap_CA',\n",
       " 'snap_TX',\n",
       " 'snap_WI',\n",
       " 'sell_price']"
      ]
     },
     "execution_count": 5,
     "metadata": {},
     "output_type": "execute_result"
    }
   ],
   "source": [
    "df.columns"
   ]
  },
  {
   "cell_type": "markdown",
   "metadata": {},
   "source": [
    "# Initiating different Transformers #"
   ]
  },
  {
   "cell_type": "code",
   "execution_count": 6,
   "metadata": {},
   "outputs": [],
   "source": [
    "imputeNegativePrice = ImputePrice()\n",
    "negativeSales = NegativeSales(column=\"sales\")\n",
    "aggregate = AggregateData(columns=[\"store_id\", \"dept_id\", \"year\", \"month\"],\n",
    "                                expressions={\"sales\": \"sum\",\n",
    "                                \"sell_price\": \"avg\",\n",
    "                                \"snap_WI\": \"sum\"})"
   ]
  },
  {
   "cell_type": "code",
   "execution_count": 7,
   "metadata": {},
   "outputs": [],
   "source": [
    "log_transform = Log(inputCols=[\"sales\",\"sell_price\"])"
   ]
  },
  {
   "cell_type": "code",
   "execution_count": 8,
   "metadata": {},
   "outputs": [],
   "source": [
    "lag_feature_transform = Lags(lags=[1,2,3], target=\"sales\", partitionBy=[\"store_id\",\"dept_id\"], orderBy=[\"year\", \"month\"])"
   ]
  },
  {
   "cell_type": "code",
   "execution_count": 9,
   "metadata": {},
   "outputs": [],
   "source": [
    "na_filler = ScallerNAFiller()"
   ]
  },
  {
   "cell_type": "code",
   "execution_count": 10,
   "metadata": {},
   "outputs": [],
   "source": [
    "storeIndexer = StringIndexer(inputCol=\"store_id\", outputCol=\"store_id_index\")\n",
    "yearIndexer = StringIndexer(inputCol=\"year\", outputCol=\"year_index\")\n",
    "#departIndexer = StringIndexer(inputCol=\"dept_id\", outputCol=\"dept_id_indexer\")"
   ]
  },
  {
   "cell_type": "code",
   "execution_count": 18,
   "metadata": {},
   "outputs": [],
   "source": [
    "inputColumns = ['month',\n",
    "        'sell_price',\n",
    "        'snap_WI',\n",
    "        'lag_1',\n",
    "        'lag_2',\n",
    "        'lag_3',\n",
    "        'store_id_index',\n",
    "        'year_index']\n",
    "assembler = VectorAssembler(inputCols=inputColumns, \n",
    "                                    outputCol=\"features\")"
   ]
  },
  {
   "cell_type": "markdown",
   "metadata": {},
   "source": [
    "#  Preprocessing/FeatureEngineering Pipeline Complete #"
   ]
  },
  {
   "cell_type": "code",
   "execution_count": 26,
   "metadata": {},
   "outputs": [],
   "source": [
    "transformed = Pipeline(stages=[imputeNegativePrice, negativeSales, aggregate, \n",
    "                       log_transform, lag_feature_transform, storeIndexer, yearIndexer, na_filler, assembler]).fit(df).transform(df)"
   ]
  },
  {
   "cell_type": "code",
   "execution_count": 27,
   "metadata": {},
   "outputs": [
    {
     "name": "stdout",
     "output_type": "stream",
     "text": [
      "+--------+-----------+----+-----+------------------+-------+------------------+------------------+------------------+------------------+--------------+----------+--------------------+\n",
      "|store_id|    dept_id|year|month|        sell_price|snap_WI|             sales|             lag_1|             lag_2|             lag_3|store_id_index|year_index|            features|\n",
      "+--------+-----------+----+-----+------------------+-------+------------------+------------------+------------------+------------------+--------------+----------+--------------------+\n",
      "|    WI_1|HOUSEHOLD_2|2011|    1|1.7451427262895642|      0|5.8998973535824915|               0.0|               0.0|               0.0|           0.0|       0.0|(8,[0,1],[1.0,1.7...|\n",
      "|    WI_1|HOUSEHOLD_2|2011|    2| 1.745142726289564|   5150| 8.001689978099135|5.8998973535824915|               0.0|               0.0|           0.0|       0.0|(8,[0,1,2,3],[2.0...|\n",
      "|    WI_1|HOUSEHOLD_2|2011|    3| 1.745142726289565|   5150|  8.09009578318096| 8.001689978099135|5.8998973535824915|               0.0|           0.0|       0.0|[3.0,1.7451427262...|\n",
      "|    WI_1|HOUSEHOLD_2|2011|    4|1.7451427262895647|   5150| 8.041412909393047|  8.09009578318096| 8.001689978099135|5.8998973535824915|           0.0|       0.0|[4.0,1.7451427262...|\n",
      "|    WI_1|HOUSEHOLD_2|2011|    5| 1.745142726289565|   5150| 8.038512020976814| 8.041412909393047|  8.09009578318096| 8.001689978099135|           0.0|       0.0|[5.0,1.7451427262...|\n",
      "|    WI_1|HOUSEHOLD_2|2011|    6|1.7451427262895647|   5150| 7.972810784121404| 8.038512020976814| 8.041412909393047|  8.09009578318096|           0.0|       0.0|[6.0,1.7451427262...|\n",
      "|    WI_1|HOUSEHOLD_2|2011|    7| 1.745142726289565|   5150| 7.958227192322312| 7.972810784121404| 8.038512020976814| 8.041412909393047|           0.0|       0.0|[7.0,1.7451427262...|\n",
      "|    WI_1|HOUSEHOLD_2|2011|    8| 1.745142726289565|   5150| 7.988542982737695| 7.958227192322312| 7.972810784121404| 8.038512020976814|           0.0|       0.0|[8.0,1.7451427262...|\n",
      "|    WI_1|HOUSEHOLD_2|2011|    9|1.7451427262895647|   5150| 7.935945103353701| 7.988542982737695| 7.958227192322312| 7.972810784121404|           0.0|       0.0|[9.0,1.7451427262...|\n",
      "|    WI_1|HOUSEHOLD_2|2011|   10| 1.745142726289565|   5150| 8.003697339094368| 7.935945103353701| 7.988542982737695| 7.958227192322312|           0.0|       0.0|[10.0,1.745142726...|\n",
      "|    WI_1|HOUSEHOLD_2|2011|   11|1.7451427262895647|   5150| 7.919719760924575| 8.003697339094368| 7.935945103353701| 7.988542982737695|           0.0|       0.0|[11.0,1.745142726...|\n",
      "|    WI_1|HOUSEHOLD_2|2011|   12| 1.745142726289565|   5150| 8.005033344637111| 7.919719760924575| 8.003697339094368| 7.935945103353701|           0.0|       0.0|[12.0,1.745142726...|\n",
      "|    WI_1|HOUSEHOLD_2|2012|    1| 1.745142726289565|   5150|7.9714309977693505| 8.005033344637111| 7.919719760924575| 8.003697339094368|           0.0|       1.0|[1.0,1.7451427262...|\n",
      "|    WI_1|HOUSEHOLD_2|2012|    2| 1.745142726289564|   5150| 8.165932137321585|7.9714309977693505| 8.005033344637111| 7.919719760924575|           0.0|       1.0|[2.0,1.7451427262...|\n",
      "|    WI_1|HOUSEHOLD_2|2012|    3| 1.745142726289565|   5150| 8.140315540159985| 8.165932137321585|7.9714309977693505| 8.005033344637111|           0.0|       1.0|[3.0,1.7451427262...|\n",
      "|    WI_1|HOUSEHOLD_2|2012|    4|1.7451427262895647|   5150| 8.112227958349724| 8.140315540159985| 8.165932137321585|7.9714309977693505|           0.0|       1.0|[4.0,1.7451427262...|\n",
      "|    WI_1|HOUSEHOLD_2|2012|    5| 1.745142726289565|   5150| 8.080546965824498| 8.112227958349724| 8.140315540159985| 8.165932137321585|           0.0|       1.0|[5.0,1.7451427262...|\n",
      "|    WI_1|HOUSEHOLD_2|2012|    6|1.7451427262895647|   5150|  8.08886878916199| 8.080546965824498| 8.112227958349724| 8.140315540159985|           0.0|       1.0|[6.0,1.7451427262...|\n",
      "|    WI_1|HOUSEHOLD_2|2012|    7| 1.745142726289565|   5150| 8.048149101665201|  8.08886878916199| 8.080546965824498| 8.112227958349724|           0.0|       1.0|[7.0,1.7451427262...|\n",
      "|    WI_1|HOUSEHOLD_2|2012|    8| 1.745142726289565|   5150|7.9211727215870145| 8.048149101665201|  8.08886878916199| 8.080546965824498|           0.0|       1.0|[8.0,1.7451427262...|\n",
      "+--------+-----------+----+-----+------------------+-------+------------------+------------------+------------------+------------------+--------------+----------+--------------------+\n",
      "only showing top 20 rows\n",
      "\n"
     ]
    }
   ],
   "source": [
    "transformed.show()"
   ]
  },
  {
   "cell_type": "code",
   "execution_count": 28,
   "metadata": {},
   "outputs": [
    {
     "data": {
      "text/plain": [
       "['store_id',\n",
       " 'dept_id',\n",
       " 'year',\n",
       " 'month',\n",
       " 'sell_price',\n",
       " 'snap_WI',\n",
       " 'sales',\n",
       " 'lag_1',\n",
       " 'lag_2',\n",
       " 'lag_3',\n",
       " 'store_id_index',\n",
       " 'year_index',\n",
       " 'features']"
      ]
     },
     "execution_count": 28,
     "metadata": {},
     "output_type": "execute_result"
    }
   ],
   "source": [
    "transformed.columns"
   ]
  },
  {
   "cell_type": "code",
   "execution_count": 29,
   "metadata": {},
   "outputs": [
    {
     "name": "stdout",
     "output_type": "stream",
     "text": [
      "+--------------------+\n",
      "|            features|\n",
      "+--------------------+\n",
      "|(8,[0,1],[1.0,1.7...|\n",
      "|(8,[0,1,2,3],[2.0...|\n",
      "|[3.0,1.7451427262...|\n",
      "|[4.0,1.7451427262...|\n",
      "|[5.0,1.7451427262...|\n",
      "+--------------------+\n",
      "only showing top 5 rows\n",
      "\n"
     ]
    }
   ],
   "source": [
    "transformed.select(\"features\").show(5)"
   ]
  },
  {
   "cell_type": "markdown",
   "metadata": {},
   "source": [
    "# TEST/Train Transform #"
   ]
  },
  {
   "cell_type": "code",
   "execution_count": 30,
   "metadata": {},
   "outputs": [],
   "source": [
    "test_train_splitting = Split(year=2015)"
   ]
  },
  {
   "cell_type": "code",
   "execution_count": 32,
   "metadata": {},
   "outputs": [
    {
     "ename": "ValueError",
     "evalue": "Param Param(parent='Split_a96a2ee4dc8d', name='split_value', doc='Column remove negative sales from') does not belong to Split_a96a2ee4dc8d.",
     "output_type": "error",
     "traceback": [
      "\u001b[1;31m---------------------------------------------------------------------------\u001b[0m",
      "\u001b[1;31mValueError\u001b[0m                                Traceback (most recent call last)",
      "Cell \u001b[1;32mIn [32], line 1\u001b[0m\n\u001b[1;32m----> 1\u001b[0m train, test \u001b[38;5;241m=\u001b[39m \u001b[43mtest_train_splitting\u001b[49m\u001b[38;5;241;43m.\u001b[39;49m\u001b[43mtransform\u001b[49m\u001b[43m(\u001b[49m\u001b[43mtransformed\u001b[49m\u001b[43m)\u001b[49m\n",
      "File \u001b[1;32m~\\spark3\\python\\pyspark\\ml\\base.py:172\u001b[0m, in \u001b[0;36mTransformer.transform\u001b[1;34m(self, dataset, params)\u001b[0m\n\u001b[0;32m    170\u001b[0m         \u001b[39mreturn\u001b[39;00m \u001b[39mself\u001b[39m\u001b[39m.\u001b[39mcopy(params)\u001b[39m.\u001b[39m_transform(dataset)\n\u001b[0;32m    171\u001b[0m     \u001b[39melse\u001b[39;00m:\n\u001b[1;32m--> 172\u001b[0m         \u001b[39mreturn\u001b[39;00m \u001b[39mself\u001b[39;49m\u001b[39m.\u001b[39;49m_transform(dataset)\n\u001b[0;32m    173\u001b[0m \u001b[39melse\u001b[39;00m:\n\u001b[0;32m    174\u001b[0m     \u001b[39mraise\u001b[39;00m \u001b[39mValueError\u001b[39;00m(\u001b[39m\"\u001b[39m\u001b[39mParams must be a param map but got \u001b[39m\u001b[39m%s\u001b[39;00m\u001b[39m.\u001b[39m\u001b[39m\"\u001b[39m \u001b[39m%\u001b[39m \u001b[39mtype\u001b[39m(params))\n",
      "File \u001b[1;32md:\\Ml_assignment_pyspark_1.0\\Ml_Assignment_1.0\\Transformers\\test_train_split.py:30\u001b[0m, in \u001b[0;36mSplit._transform\u001b[1;34m(self, df, year)\u001b[0m\n\u001b[0;32m     29\u001b[0m \u001b[39mdef\u001b[39;00m \u001b[39m_transform\u001b[39m(\u001b[39mself\u001b[39m, df, year\u001b[39m=\u001b[39m\u001b[39m2016\u001b[39m):\n\u001b[1;32m---> 30\u001b[0m     year \u001b[39m=\u001b[39m \u001b[39mself\u001b[39;49m\u001b[39m.\u001b[39;49mgetsplitvalue()\n\u001b[0;32m     31\u001b[0m     df_train, df_test \u001b[39m=\u001b[39m df[df[\u001b[39m'\u001b[39m\u001b[39myear\u001b[39m\u001b[39m'\u001b[39m]\u001b[39m<\u001b[39myear], df[df[\u001b[39m'\u001b[39m\u001b[39myear\u001b[39m\u001b[39m'\u001b[39m]\u001b[39m>\u001b[39m\u001b[39m=\u001b[39myear]\n\u001b[0;32m     32\u001b[0m     \u001b[39mreturn\u001b[39;00m df_train, df_test\n",
      "File \u001b[1;32md:\\Ml_assignment_pyspark_1.0\\Ml_Assignment_1.0\\Transformers\\test_train_split.py:27\u001b[0m, in \u001b[0;36mSplit.getsplitvalue\u001b[1;34m(self)\u001b[0m\n\u001b[0;32m     26\u001b[0m \u001b[39mdef\u001b[39;00m \u001b[39mgetsplitvalue\u001b[39m(\u001b[39mself\u001b[39m):\n\u001b[1;32m---> 27\u001b[0m     \u001b[39mreturn\u001b[39;00m \u001b[39mself\u001b[39;49m\u001b[39m.\u001b[39;49mgetOrDefault(\u001b[39mself\u001b[39;49m\u001b[39m.\u001b[39;49myear)\n",
      "File \u001b[1;32m~\\spark3\\python\\pyspark\\ml\\param\\__init__.py:354\u001b[0m, in \u001b[0;36mParams.getOrDefault\u001b[1;34m(self, param)\u001b[0m\n\u001b[0;32m    349\u001b[0m \u001b[39mdef\u001b[39;00m \u001b[39mgetOrDefault\u001b[39m(\u001b[39mself\u001b[39m, param):\n\u001b[0;32m    350\u001b[0m     \u001b[39m\"\"\"\u001b[39;00m\n\u001b[0;32m    351\u001b[0m \u001b[39m    Gets the value of a param in the user-supplied param map or its\u001b[39;00m\n\u001b[0;32m    352\u001b[0m \u001b[39m    default value. Raises an error if neither is set.\u001b[39;00m\n\u001b[0;32m    353\u001b[0m \u001b[39m    \"\"\"\u001b[39;00m\n\u001b[1;32m--> 354\u001b[0m     param \u001b[39m=\u001b[39m \u001b[39mself\u001b[39;49m\u001b[39m.\u001b[39;49m_resolveParam(param)\n\u001b[0;32m    355\u001b[0m     \u001b[39mif\u001b[39;00m param \u001b[39min\u001b[39;00m \u001b[39mself\u001b[39m\u001b[39m.\u001b[39m_paramMap:\n\u001b[0;32m    356\u001b[0m         \u001b[39mreturn\u001b[39;00m \u001b[39mself\u001b[39m\u001b[39m.\u001b[39m_paramMap[param]\n",
      "File \u001b[1;32m~\\spark3\\python\\pyspark\\ml\\param\\__init__.py:424\u001b[0m, in \u001b[0;36mParams._resolveParam\u001b[1;34m(self, param)\u001b[0m\n\u001b[0;32m    416\u001b[0m \u001b[39m\"\"\"\u001b[39;00m\n\u001b[0;32m    417\u001b[0m \u001b[39mResolves a param and validates the ownership.\u001b[39;00m\n\u001b[0;32m    418\u001b[0m \n\u001b[1;32m   (...)\u001b[0m\n\u001b[0;32m    421\u001b[0m \u001b[39m:return: resolved param instance\u001b[39;00m\n\u001b[0;32m    422\u001b[0m \u001b[39m\"\"\"\u001b[39;00m\n\u001b[0;32m    423\u001b[0m \u001b[39mif\u001b[39;00m \u001b[39misinstance\u001b[39m(param, Param):\n\u001b[1;32m--> 424\u001b[0m     \u001b[39mself\u001b[39;49m\u001b[39m.\u001b[39;49m_shouldOwn(param)\n\u001b[0;32m    425\u001b[0m     \u001b[39mreturn\u001b[39;00m param\n\u001b[0;32m    426\u001b[0m \u001b[39melif\u001b[39;00m \u001b[39misinstance\u001b[39m(param, basestring):\n",
      "File \u001b[1;32m~\\spark3\\python\\pyspark\\ml\\param\\__init__.py:413\u001b[0m, in \u001b[0;36mParams._shouldOwn\u001b[1;34m(self, param)\u001b[0m\n\u001b[0;32m    409\u001b[0m \u001b[39m\"\"\"\u001b[39;00m\n\u001b[0;32m    410\u001b[0m \u001b[39mValidates that the input param belongs to this Params instance.\u001b[39;00m\n\u001b[0;32m    411\u001b[0m \u001b[39m\"\"\"\u001b[39;00m\n\u001b[0;32m    412\u001b[0m \u001b[39mif\u001b[39;00m \u001b[39mnot\u001b[39;00m (\u001b[39mself\u001b[39m\u001b[39m.\u001b[39muid \u001b[39m==\u001b[39m param\u001b[39m.\u001b[39mparent \u001b[39mand\u001b[39;00m \u001b[39mself\u001b[39m\u001b[39m.\u001b[39mhasParam(param\u001b[39m.\u001b[39mname)):\n\u001b[1;32m--> 413\u001b[0m     \u001b[39mraise\u001b[39;00m \u001b[39mValueError\u001b[39;00m(\u001b[39m\"\u001b[39m\u001b[39mParam \u001b[39m\u001b[39m%r\u001b[39;00m\u001b[39m does not belong to \u001b[39m\u001b[39m%r\u001b[39;00m\u001b[39m.\u001b[39m\u001b[39m\"\u001b[39m \u001b[39m%\u001b[39m (param, \u001b[39mself\u001b[39m))\n",
      "\u001b[1;31mValueError\u001b[0m: Param Param(parent='Split_a96a2ee4dc8d', name='split_value', doc='Column remove negative sales from') does not belong to Split_a96a2ee4dc8d."
     ]
    }
   ],
   "source": [
    "train, test = test_train_splitting.transform(transformed)"
   ]
  },
  {
   "cell_type": "code",
   "execution_count": null,
   "metadata": {},
   "outputs": [],
   "source": [
    "rfModel = RandomForest(featuresCol=\"features\", labelCol=\"sales\").fit(train)"
   ]
  }
 ],
 "metadata": {
  "kernelspec": {
   "display_name": "Python 3.9.13 64-bit",
   "language": "python",
   "name": "python3"
  },
  "language_info": {
   "codemirror_mode": {
    "name": "ipython",
    "version": 3
   },
   "file_extension": ".py",
   "mimetype": "text/x-python",
   "name": "python",
   "nbconvert_exporter": "python",
   "pygments_lexer": "ipython3",
   "version": "3.9.13"
  },
  "orig_nbformat": 4,
  "vscode": {
   "interpreter": {
    "hash": "1b93898b9253904288df13a2bfa30ad60602e1c62b3892988ef0a02f0b401d94"
   }
  }
 },
 "nbformat": 4,
 "nbformat_minor": 2
}
