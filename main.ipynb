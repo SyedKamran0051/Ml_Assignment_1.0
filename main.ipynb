{
 "cells": [
  {
   "cell_type": "code",
   "execution_count": 1,
   "metadata": {},
   "outputs": [],
   "source": [
    "from xml.etree.ElementTree import fromstring\n",
    "from pyspark.sql import SparkSession\n",
    "# from Transformers import data_aggregation, impute_mean, lagtransformer, logtransformer, negative_sales, test_train_split,antilogtransformer\n",
    "from Preprocessing.data_manipulation import DataPreparation\n",
    "from Transformers.data_aggregation import AggregateData\n",
    "from Transformers.impute_mean import ImputePrice\n",
    "from Transformers.negative_sales import NegativeSales\n",
    "from Transformers.logtransformer import Log\n",
    "from pyspark.ml import Pipeline\n",
    "from Transformers.scalar_na_filler import ScalarNAFiller\n",
    "from Transformers.lagtransformer import Lags\n",
    "from Transformers.test_train_split import Split"
   ]
  },
  {
   "cell_type": "code",
   "execution_count": 2,
   "metadata": {},
   "outputs": [],
   "source": [
    "if __name__ == \"__main__\":\n",
    "    spark = SparkSession \\\n",
    "        .builder \\\n",
    "        .appName(\"project_spark\") \\\n",
    "        .master(\"local[*]\") \\\n",
    "        .config(\"spark.driver.memory\", \"8g\")\\\n",
    "        .getOrCreate()"
   ]
  },
  {
   "cell_type": "code",
   "execution_count": 3,
   "metadata": {},
   "outputs": [],
   "source": [
    "data = DataPreparation()\n",
    "df = data.get_data()"
   ]
  },
  {
   "cell_type": "code",
   "execution_count": null,
   "metadata": {},
   "outputs": [
    {
     "name": "stdout",
     "output_type": "stream",
     "text": [
      "+--------+-----------+--------+--------------------+-------+------+--------+-----+----------+---------+----+-----+----+-------------+------------+------------+------------+-------+-------+-------+----------+\n",
      "|store_id|    item_id|wm_yr_wk|                  id|dept_id|cat_id|state_id|sales|      date|  weekday|wday|month|year| event_name_1|event_type_1|event_name_2|event_type_2|snap_CA|snap_TX|snap_WI|sell_price|\n",
      "+--------+-----------+--------+--------------------+-------+------+--------+-----+----------+---------+----+-----+----+-------------+------------+------------+------------+-------+-------+-------+----------+\n",
      "|    WI_1|FOODS_1_001|   11507|FOODS_1_001_WI_1_...|FOODS_1| FOODS|      WI|    0|2015-03-14| Saturday|   1|    3|2015|         null|        null|        null|        null|      0|      0|      1|      2.24|\n",
      "|    WI_1|FOODS_1_001|   11507|FOODS_1_001_WI_1_...|FOODS_1| FOODS|      WI|    0|2015-03-15|   Sunday|   2|    3|2015|         null|        null|        null|        null|      0|      1|      1|      2.24|\n",
      "|    WI_1|FOODS_1_001|   11507|FOODS_1_001_WI_1_...|FOODS_1| FOODS|      WI|    0|2015-03-16|   Monday|   3|    3|2015|         null|        null|        null|        null|      0|      0|      0|      2.24|\n",
      "|    WI_1|FOODS_1_001|   11507|FOODS_1_001_WI_1_...|FOODS_1| FOODS|      WI|    1|2015-03-17|  Tuesday|   4|    3|2015|StPatricksDay|    Cultural|        null|        null|      0|      0|      0|      2.24|\n",
      "|    WI_1|FOODS_1_001|   11507|FOODS_1_001_WI_1_...|FOODS_1| FOODS|      WI|    0|2015-03-18|Wednesday|   5|    3|2015|         null|        null|        null|        null|      0|      0|      0|      2.24|\n",
      "+--------+-----------+--------+--------------------+-------+------+--------+-----+----------+---------+----+-----+----+-------------+------------+------------+------------+-------+-------+-------+----------+\n",
      "only showing top 5 rows\n",
      "\n"
     ]
    }
   ],
   "source": [
    "df = data.filter_store(df, \"WI_1\")\n",
    "df.show(5)"
   ]
  },
  {
   "cell_type": "code",
   "execution_count": null,
   "metadata": {},
   "outputs": [
    {
     "data": {
      "text/plain": [
       "['store_id',\n",
       " 'item_id',\n",
       " 'wm_yr_wk',\n",
       " 'id',\n",
       " 'dept_id',\n",
       " 'cat_id',\n",
       " 'state_id',\n",
       " 'sales',\n",
       " 'date',\n",
       " 'weekday',\n",
       " 'wday',\n",
       " 'month',\n",
       " 'year',\n",
       " 'event_name_1',\n",
       " 'event_type_1',\n",
       " 'event_name_2',\n",
       " 'event_type_2',\n",
       " 'snap_CA',\n",
       " 'snap_TX',\n",
       " 'snap_WI',\n",
       " 'sell_price']"
      ]
     },
     "execution_count": 5,
     "metadata": {},
     "output_type": "execute_result"
    }
   ],
   "source": [
    "df.columns"
   ]
  },
  {
   "cell_type": "code",
   "execution_count": null,
   "metadata": {},
   "outputs": [],
   "source": [
    "imputeNegativePrice = ImputePrice()\n",
    "negativeSales = NegativeSales(column=\"sales\")\n",
    "aggregate = AggregateData(columns=[\"store_id\", \"dept_id\", \"year\", \"month\",\"date\"],\n",
    "                                expressions={\"sales\": \"sum\",\n",
    "                                \"sell_price\": \"avg\",\n",
    "                                \"event_name_1\": \"count\",\n",
    "                                \"event_name_2\": \"count\",\n",
    "                                \"snap_WI\": \"sum\"})"
   ]
  },
  {
   "cell_type": "code",
   "execution_count": null,
   "metadata": {},
   "outputs": [],
   "source": [
    "log_transform = Log(inputCols=[\"sales\",\"sell_price\",\"event_name_1\",\"snap_WI\"])"
   ]
  },
  {
   "cell_type": "code",
   "execution_count": null,
   "metadata": {},
   "outputs": [],
   "source": [
    "null_values_transofrm = NegativeSales(column=\"event_name_1\")"
   ]
  },
  {
   "cell_type": "code",
   "execution_count": null,
   "metadata": {},
   "outputs": [],
   "source": [
    "lag_feature_transform = Lags(lags=[1,2], target=\"sales\", partitionBy=[\"dept_id\",\"month\"], orderBy=[\"store_id\", \"year\"])"
   ]
  },
  {
   "cell_type": "code",
   "execution_count": null,
   "metadata": {},
   "outputs": [],
   "source": [
    "# Import VectorAssembler and Vectors\n",
    "from pyspark.ml.linalg import Vectors\n",
    "from pyspark.ml.feature import VectorAssembler"
   ]
  },
  {
   "cell_type": "code",
   "execution_count": null,
   "metadata": {},
   "outputs": [],
   "source": [
    "assembler = VectorAssembler(\n",
    "    inputCols=[\"sell_price\"],\n",
    "    outputCol=\"features\")"
   ]
  },
  {
   "cell_type": "code",
   "execution_count": null,
   "metadata": {},
   "outputs": [
    {
     "data": {
      "text/plain": [
       "<bound method Params.explainParams of VectorAssembler_04043151abe1>"
      ]
     },
     "execution_count": 12,
     "metadata": {},
     "output_type": "execute_result"
    }
   ],
   "source": [
    "assembler.explainParams"
   ]
  },
  {
   "cell_type": "code",
   "execution_count": null,
   "metadata": {},
   "outputs": [],
   "source": [
    "test_train_transform = Split()"
   ]
  },
  {
   "cell_type": "code",
   "execution_count": null,
   "metadata": {},
   "outputs": [],
   "source": [
    "transformed = Pipeline(stages=[imputeNegativePrice, negativeSales, aggregate, log_transform, null_values_transofrm, lag_feature_transform]).fit(df).transform(df)"
   ]
  },
  {
   "cell_type": "code",
   "execution_count": null,
   "metadata": {},
   "outputs": [
    {
     "name": "stdout",
     "output_type": "stream",
     "text": [
      "+--------+-----------+----+-----+----------+------------------+------------------+------------------+------------------+------------+------------------+------------------+\n",
      "|store_id|    dept_id|year|month|      date|           snap_WI|      event_name_1|             sales|        sell_price|event_name_2|             lag_1|             lag_2|\n",
      "+--------+-----------+----+-----+----------+------------------+------------------+------------------+------------------+------------+------------------+------------------+\n",
      "|    WI_1|HOUSEHOLD_1|2011|    7|2011-07-28|              null|              null| 5.484796933490655|1.6448471166443395|           0|              null|              null|\n",
      "|    WI_1|HOUSEHOLD_1|2011|    7|2011-07-02|6.2766434893416445|              null|  5.71042701737487|1.6448471166443395|           0| 5.484796933490655|              null|\n",
      "|    WI_1|HOUSEHOLD_1|2011|    7|2011-07-23|              null|              null| 5.968707559985366|1.6448471166443395|           0|  5.71042701737487| 5.484796933490655|\n",
      "|    WI_1|HOUSEHOLD_1|2011|    7|2011-07-22|              null|              null| 5.755742213586912|1.6448471166443395|           0| 5.968707559985366|  5.71042701737487|\n",
      "|    WI_1|HOUSEHOLD_1|2011|    7|2011-07-09|6.2766434893416445|              null| 6.008813185442595|1.6448471166443395|           0| 5.755742213586912| 5.968707559985366|\n",
      "|    WI_1|HOUSEHOLD_1|2011|    7|2011-07-27|              null|              null|5.5254529391317835|1.6448471166443395|           0| 6.008813185442595| 5.755742213586912|\n",
      "|    WI_1|HOUSEHOLD_1|2011|    7|2011-07-16|              null|              null| 5.955837369464831|1.6448471166443395|           0|5.5254529391317835| 6.008813185442595|\n",
      "|    WI_1|HOUSEHOLD_1|2011|    7|2011-07-08|6.2766434893416445|              null|  5.84354441703136|1.6448471166443395|           0| 5.955837369464831|5.5254529391317835|\n",
      "|    WI_1|HOUSEHOLD_1|2011|    7|2011-07-11|6.2766434893416445|              null|5.5254529391317835|1.6448471166443395|           0|  5.84354441703136| 5.955837369464831|\n",
      "|    WI_1|HOUSEHOLD_1|2011|    7|2011-07-25|              null|              null| 5.318119993844216|1.6448471166443395|           0|5.5254529391317835|  5.84354441703136|\n",
      "|    WI_1|HOUSEHOLD_1|2011|    7|2011-07-12|6.2766434893416445|              null| 5.598421958998375|1.6448471166443395|           0| 5.318119993844216|5.5254529391317835|\n",
      "|    WI_1|HOUSEHOLD_1|2011|    7|2011-07-31|              null|              null| 5.652489180268651|1.6448471166443395|           0| 5.598421958998375| 5.318119993844216|\n",
      "|    WI_1|HOUSEHOLD_1|2011|    7|2011-07-29|              null|              null|5.6240175061873385|1.6448471166443395|           0| 5.652489180268651| 5.598421958998375|\n",
      "|    WI_1|HOUSEHOLD_1|2011|    7|2011-07-17|              null|              null|5.7899601708972535|1.6448471166443395|           0|5.6240175061873385| 5.652489180268651|\n",
      "|    WI_1|HOUSEHOLD_1|2011|    7|2011-07-10|              null|              null|5.8522024797744745|1.6448471166443395|           0|5.7899601708972535|5.6240175061873385|\n",
      "|    WI_1|HOUSEHOLD_1|2011|    7|2011-07-24|              null|              null| 5.720311776607412|1.6448471166443395|           0|5.8522024797744745|5.7899601708972535|\n",
      "|    WI_1|HOUSEHOLD_1|2011|    7|2011-07-05|6.2766434893416445|              null| 5.627621113690637|1.6448471166443395|           0| 5.720311776607412|5.8522024797744745|\n",
      "|    WI_1|HOUSEHOLD_1|2011|    7|2011-07-14|6.2766434893416445|              null| 5.529429087511423|1.6448471166443395|           0| 5.627621113690637| 5.720311776607412|\n",
      "|    WI_1|HOUSEHOLD_1|2011|    7|2011-07-04|              null|6.2766434893416445| 5.087596335232384|1.6448471166443395|           0| 5.529429087511423| 5.627621113690637|\n",
      "|    WI_1|HOUSEHOLD_1|2011|    7|2011-07-06|6.2766434893416445|              null| 5.683579767338681|1.6448471166443395|           0| 5.087596335232384| 5.529429087511423|\n",
      "+--------+-----------+----+-----+----------+------------------+------------------+------------------+------------------+------------+------------------+------------------+\n",
      "only showing top 20 rows\n",
      "\n"
     ]
    }
   ],
   "source": [
    "transformed.show()"
   ]
  },
  {
   "cell_type": "code",
   "execution_count": null,
   "metadata": {},
   "outputs": [
    {
     "data": {
      "text/plain": [
       "['store_id',\n",
       " 'dept_id',\n",
       " 'year',\n",
       " 'month',\n",
       " 'date',\n",
       " 'snap_WI',\n",
       " 'event_name_1',\n",
       " 'sales',\n",
       " 'sell_price',\n",
       " 'event_name_2',\n",
       " 'lag_1',\n",
       " 'lag_2']"
      ]
     },
     "execution_count": 16,
     "metadata": {},
     "output_type": "execute_result"
    }
   ],
   "source": [
    "transformed.columns"
   ]
  },
  {
   "cell_type": "code",
   "execution_count": null,
   "metadata": {},
   "outputs": [],
   "source": []
  },
  {
   "cell_type": "code",
   "execution_count": null,
   "metadata": {},
   "outputs": [],
   "source": []
  }
 ],
 "metadata": {
  "kernelspec": {
   "display_name": "Python 3.9.13 64-bit",
   "language": "python",
   "name": "python3"
  },
  "language_info": {
   "codemirror_mode": {
    "name": "ipython",
    "version": 3
   },
   "file_extension": ".py",
   "mimetype": "text/x-python",
   "name": "python",
   "nbconvert_exporter": "python",
   "pygments_lexer": "ipython3",
   "version": "3.9.13"
  },
  "orig_nbformat": 4,
  "vscode": {
   "interpreter": {
    "hash": "1b93898b9253904288df13a2bfa30ad60602e1c62b3892988ef0a02f0b401d94"
   }
  }
 },
 "nbformat": 4,
 "nbformat_minor": 2
}
