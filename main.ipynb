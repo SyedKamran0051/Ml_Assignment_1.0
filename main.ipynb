{
 "cells": [
  {
   "cell_type": "code",
   "execution_count": 1,
   "metadata": {},
   "outputs": [
    {
     "name": "stdout",
     "output_type": "stream",
     "text": [
      "D:\\Data_M5\\calendar.csv\n",
      "D:\\Data_M5\\sell_prices.csv\n",
      "D:\\Data_M5\\train_data_modified.csv\n"
     ]
    }
   ],
   "source": [
    "from xml.etree.ElementTree import fromstring\n",
    "from pyspark.sql import SparkSession\n",
    "from Preprocessing.data_manipulation import DataPreparation\n",
    "from Transformers.data_aggregation import AggregateData\n",
    "from Transformers.impute_mean import ImputePrice\n",
    "from Transformers.negative_sales import NegativeSales\n",
    "from Transformers.logtransformer import Log\n",
    "from pyspark.ml import Pipeline\n",
    "from Transformers.scalar_na_filler import ScallerNAFiller\n",
    "from Transformers.lagtransformer import Lags\n",
    "from Transformers.test_train_split import Split\n",
    "from pyspark.ml.feature import VectorAssembler, StringIndexer\n",
    "from Evaluator.Mape import MAPE\n",
    "from pyspark.ml.linalg import Vectors\n",
    "from pyspark.ml.feature import VectorAssembler\n",
    "from Estimator.random_forest import RandomForest\n",
    "from Estimator.XGBoost import XGBoost\n",
    "from Transformers.antilogtransformer import AntiLog\n",
    "import pickle"
   ]
  },
  {
   "cell_type": "code",
   "execution_count": 2,
   "metadata": {},
   "outputs": [],
   "source": [
    "# Creating a Spark Session\n",
    "if __name__ == \"__main__\":\n",
    "    spark = SparkSession \\\n",
    "        .builder \\\n",
    "        .appName(\"project_spark\") \\\n",
    "        .master(\"local[*]\") \\\n",
    "        .config(\"spark.driver.memory\", \"12g\")\\\n",
    "        .getOrCreate()"
   ]
  },
  {
   "cell_type": "code",
   "execution_count": 3,
   "metadata": {},
   "outputs": [],
   "source": [
    "# df = Data Frame \n",
    "data = DataPreparation()\n",
    "df_m5 = data.get_data()"
   ]
  },
  {
   "cell_type": "code",
   "execution_count": 4,
   "metadata": {},
   "outputs": [],
   "source": [
    "df_m5.groupBy(\"store_id\").count().show()"
   ]
  },
  {
   "cell_type": "code",
   "execution_count": 5,
   "metadata": {},
   "outputs": [],
   "source": [
    "df_m5.groupBy('store_id').agg({\"sell_price\": \"avg\", \"sales\": \"sum\"} ).show()"
   ]
  },
  {
   "cell_type": "code",
   "execution_count": 6,
   "metadata": {},
   "outputs": [
    {
     "name": "stdout",
     "output_type": "stream",
     "text": [
      "+--------+-----------+--------+--------------------+-------+------+--------+-----+----------+---------+----+-----+----+------------+------------+------------+------------+-------+-------+-------+----------+\n",
      "|store_id|    item_id|wm_yr_wk|                  id|dept_id|cat_id|state_id|sales|      date|  weekday|wday|month|year|event_name_1|event_type_1|event_name_2|event_type_2|snap_CA|snap_TX|snap_WI|sell_price|\n",
      "+--------+-----------+--------+--------------------+-------+------+--------+-----+----------+---------+----+-----+----+------------+------------+------------+------------+-------+-------+-------+----------+\n",
      "|    CA_1|FOODS_1_001|   11535|FOODS_1_001_CA_1_...|FOODS_1| FOODS|      CA|    0|2015-09-26| Saturday|   1|    9|2015|        null|        null|        null|        null|      0|      0|      0|      2.24|\n",
      "|    CA_1|FOODS_1_001|   11535|FOODS_1_001_CA_1_...|FOODS_1| FOODS|      CA|    0|2015-09-27|   Sunday|   2|    9|2015|        null|        null|        null|        null|      0|      0|      0|      2.24|\n",
      "|    CA_1|FOODS_1_001|   11535|FOODS_1_001_CA_1_...|FOODS_1| FOODS|      CA|    0|2015-09-28|   Monday|   3|    9|2015|        null|        null|        null|        null|      0|      0|      0|      2.24|\n",
      "|    CA_1|FOODS_1_001|   11535|FOODS_1_001_CA_1_...|FOODS_1| FOODS|      CA|    0|2015-09-29|  Tuesday|   4|    9|2015|        null|        null|        null|        null|      0|      0|      0|      2.24|\n",
      "|    CA_1|FOODS_1_001|   11535|FOODS_1_001_CA_1_...|FOODS_1| FOODS|      CA|    0|2015-09-30|Wednesday|   5|    9|2015|        null|        null|        null|        null|      0|      0|      0|      2.24|\n",
      "+--------+-----------+--------+--------------------+-------+------+--------+-----+----------+---------+----+-----+----+------------+------------+------------+------------+-------+-------+-------+----------+\n",
      "only showing top 5 rows\n",
      "\n"
     ]
    }
   ],
   "source": [
    "df_m5 = data.filter_store(df_m5, \"CA_1\")\n",
    "df_m5.show(5)"
   ]
  },
  {
   "cell_type": "code",
   "execution_count": 8,
   "metadata": {},
   "outputs": [
    {
     "name": "stdout",
     "output_type": "stream",
     "text": [
      "root\n",
      " |-- store_id: string (nullable = true)\n",
      " |-- item_id: string (nullable = true)\n",
      " |-- wm_yr_wk: integer (nullable = true)\n",
      " |-- id: string (nullable = true)\n",
      " |-- dept_id: string (nullable = true)\n",
      " |-- cat_id: string (nullable = true)\n",
      " |-- state_id: string (nullable = true)\n",
      " |-- sales: integer (nullable = true)\n",
      " |-- date: string (nullable = true)\n",
      " |-- weekday: string (nullable = true)\n",
      " |-- wday: integer (nullable = true)\n",
      " |-- month: integer (nullable = true)\n",
      " |-- year: integer (nullable = true)\n",
      " |-- event_name_1: string (nullable = true)\n",
      " |-- event_type_1: string (nullable = true)\n",
      " |-- event_name_2: string (nullable = true)\n",
      " |-- event_type_2: string (nullable = true)\n",
      " |-- snap_CA: integer (nullable = true)\n",
      " |-- snap_TX: integer (nullable = true)\n",
      " |-- snap_WI: integer (nullable = true)\n",
      " |-- sell_price: double (nullable = true)\n",
      "\n"
     ]
    }
   ],
   "source": [
    "df_m5.printSchema()"
   ]
  },
  {
   "cell_type": "code",
   "execution_count": 9,
   "metadata": {},
   "outputs": [
    {
     "data": {
      "text/plain": [
       "['store_id',\n",
       " 'item_id',\n",
       " 'wm_yr_wk',\n",
       " 'id',\n",
       " 'dept_id',\n",
       " 'cat_id',\n",
       " 'state_id',\n",
       " 'sales',\n",
       " 'date',\n",
       " 'weekday',\n",
       " 'wday',\n",
       " 'month',\n",
       " 'year',\n",
       " 'event_name_1',\n",
       " 'event_type_1',\n",
       " 'event_name_2',\n",
       " 'event_type_2',\n",
       " 'snap_CA',\n",
       " 'snap_TX',\n",
       " 'snap_WI',\n",
       " 'sell_price']"
      ]
     },
     "execution_count": 9,
     "metadata": {},
     "output_type": "execute_result"
    }
   ],
   "source": [
    "df_m5.columns"
   ]
  },
  {
   "cell_type": "markdown",
   "metadata": {},
   "source": [
    "# Initiating different Transformers #"
   ]
  },
  {
   "cell_type": "code",
   "execution_count": 10,
   "metadata": {},
   "outputs": [],
   "source": [
    "imputeNegativePrice = ImputePrice()\n",
    "negativeSales = NegativeSales(column=\"sales\")\n",
    "aggregate = AggregateData(columns=[\"store_id\", \"dept_id\", \"year\", \"month\"],\n",
    "                                expressions={\"sales\": \"sum\",\n",
    "                                \"sell_price\": \"avg\",\n",
    "                                \"snap_WI\": \"sum\"})"
   ]
  },
  {
   "cell_type": "code",
   "execution_count": 11,
   "metadata": {},
   "outputs": [],
   "source": [
    "log_transform = Log(inputCols=[\"sales\",\"sell_price\"])"
   ]
  },
  {
   "cell_type": "code",
   "execution_count": 12,
   "metadata": {},
   "outputs": [],
   "source": [
    "lag_feature_transform = Lags(lags=[1,2,3], target=\"sales\", partitionBy=[\"store_id\",\"dept_id\"], orderBy=[\"year\", \"month\"])"
   ]
  },
  {
   "cell_type": "code",
   "execution_count": 13,
   "metadata": {},
   "outputs": [],
   "source": [
    "na_filler = ScallerNAFiller()"
   ]
  },
  {
   "cell_type": "code",
   "execution_count": 14,
   "metadata": {},
   "outputs": [],
   "source": [
    "storeIndexer = StringIndexer(inputCol=\"store_id\", outputCol=\"store_id_index\")\n",
    "yearIndexer = StringIndexer(inputCol=\"year\", outputCol=\"year_index\")"
   ]
  },
  {
   "cell_type": "code",
   "execution_count": 15,
   "metadata": {},
   "outputs": [],
   "source": [
    "inputColumns = ['month',\n",
    "        'sell_price',\n",
    "        'snap_WI',\n",
    "        'lag_1',\n",
    "        'lag_2',\n",
    "        'lag_3',\n",
    "        'store_id_index',\n",
    "        'year_index']\n",
    "assembler = VectorAssembler(inputCols=inputColumns, \n",
    "                                    outputCol=\"features\")"
   ]
  },
  {
   "cell_type": "markdown",
   "metadata": {},
   "source": [
    "#  Preprocessing/FeatureEngineering Pipeline Complete #"
   ]
  },
  {
   "cell_type": "code",
   "execution_count": 16,
   "metadata": {},
   "outputs": [],
   "source": [
    "transformed = Pipeline(stages=[imputeNegativePrice, negativeSales, aggregate, \n",
    "                       log_transform, lag_feature_transform, storeIndexer, yearIndexer, na_filler, assembler]).fit(df_m5).transform(df_m5)"
   ]
  },
  {
   "cell_type": "code",
   "execution_count": 17,
   "metadata": {},
   "outputs": [
    {
     "data": {
      "text/plain": [
       "448"
      ]
     },
     "execution_count": 17,
     "metadata": {},
     "output_type": "execute_result"
    }
   ],
   "source": [
    "transformed = transformed.cache()\n",
    "transformed.count()"
   ]
  },
  {
   "cell_type": "code",
   "execution_count": 18,
   "metadata": {},
   "outputs": [
    {
     "name": "stdout",
     "output_type": "stream",
     "text": [
      "+--------+---------+----+-----+------------------+-------+------------------+------------------+------------------+------------------+--------------+----------+--------------------+\n",
      "|store_id|  dept_id|year|month|        sell_price|snap_WI|             sales|             lag_1|             lag_2|             lag_3|store_id_index|year_index|            features|\n",
      "+--------+---------+----+-----+------------------+-------+------------------+------------------+------------------+------------------+--------------+----------+--------------------+\n",
      "|    CA_1|HOBBIES_2|2011|    1| 0.955345645099547|      0|3.7612001156935624|               0.0|               0.0|               0.0|           0.0|       0.0|(8,[0,1],[1.0,0.9...|\n",
      "|    CA_1|HOBBIES_2|2011|    2|0.9553456450995472|   1490| 5.877735781779639|3.7612001156935624|               0.0|               0.0|           0.0|       0.0|(8,[0,1,2,3],[2.0...|\n",
      "|    CA_1|HOBBIES_2|2011|    3|0.9553456450995466|   1490| 6.423246963533519| 5.877735781779639|3.7612001156935624|               0.0|           0.0|       0.0|[3.0,0.9553456450...|\n",
      "|    CA_1|HOBBIES_2|2011|    4|0.9553456450995481|   1490| 6.437751649736401| 6.423246963533519| 5.877735781779639|3.7612001156935624|           0.0|       0.0|[4.0,0.9553456450...|\n",
      "|    CA_1|HOBBIES_2|2011|    5|0.9553456450995466|   1490|  6.54534966033442| 6.437751649736401| 6.423246963533519| 5.877735781779639|           0.0|       0.0|[5.0,0.9553456450...|\n",
      "|    CA_1|HOBBIES_2|2011|    6|0.9553456450995481|   1490|6.4692503167957724|  6.54534966033442| 6.437751649736401| 6.423246963533519|           0.0|       0.0|[6.0,0.9553456450...|\n",
      "|    CA_1|HOBBIES_2|2011|    7|0.9553456450995466|   1490| 6.182084906716632|6.4692503167957724|  6.54534966033442| 6.437751649736401|           0.0|       0.0|[7.0,0.9553456450...|\n",
      "|    CA_1|HOBBIES_2|2011|    8|0.9553456450995466|   1490| 6.021023349349527| 6.182084906716632|6.4692503167957724|  6.54534966033442|           0.0|       0.0|[8.0,0.9553456450...|\n",
      "|    CA_1|HOBBIES_2|2011|    9|0.9553456450995481|   1490| 5.863631175598097| 6.021023349349527| 6.182084906716632|6.4692503167957724|           0.0|       0.0|[9.0,0.9553456450...|\n",
      "|    CA_1|HOBBIES_2|2011|   10|0.9553456450995466|   1490| 6.522092798170153| 5.863631175598097| 6.021023349349527| 6.182084906716632|           0.0|       0.0|[10.0,0.955345645...|\n",
      "|    CA_1|HOBBIES_2|2011|   11|0.9553456450995481|   1490| 5.998936561946683| 6.522092798170153| 5.863631175598097| 6.021023349349527|           0.0|       0.0|[11.0,0.955345645...|\n",
      "|    CA_1|HOBBIES_2|2011|   12|0.9553456450995466|   1490| 6.582025138892826| 5.998936561946683| 6.522092798170153| 5.863631175598097|           0.0|       0.0|[12.0,0.955345645...|\n",
      "|    CA_1|HOBBIES_2|2012|    1|0.9553456450995466|   1490|  6.09807428216624| 6.582025138892826| 5.998936561946683| 6.522092798170153|           0.0|       1.0|[1.0,0.9553456450...|\n",
      "|    CA_1|HOBBIES_2|2012|    2| 0.955345645099547|   1490| 6.333279628139691|  6.09807428216624| 6.582025138892826| 5.998936561946683|           0.0|       1.0|[2.0,0.9553456450...|\n",
      "|    CA_1|HOBBIES_2|2012|    3|0.9553456450995466|   1490| 6.587550014824796| 6.333279628139691|  6.09807428216624| 6.582025138892826|           0.0|       1.0|[3.0,0.9553456450...|\n",
      "|    CA_1|HOBBIES_2|2012|    4|0.9553456450995481|   1490| 6.280395838960195| 6.587550014824796| 6.333279628139691|  6.09807428216624|           0.0|       1.0|[4.0,0.9553456450...|\n",
      "|    CA_1|HOBBIES_2|2012|    5|0.9553456450995466|   1490| 6.616065185132817| 6.280395838960195| 6.587550014824796| 6.333279628139691|           0.0|       1.0|[5.0,0.9553456450...|\n",
      "|    CA_1|HOBBIES_2|2012|    6|0.9553456450995481|   1490| 6.169610732491456| 6.616065185132817| 6.280395838960195| 6.587550014824796|           0.0|       1.0|[6.0,0.9553456450...|\n",
      "|    CA_1|HOBBIES_2|2012|    7|0.9553456450995466|   1490|6.2766434893416445| 6.169610732491456| 6.616065185132817| 6.280395838960195|           0.0|       1.0|[7.0,0.9553456450...|\n",
      "|    CA_1|HOBBIES_2|2012|    8|0.9553456450995466|   1490| 6.240275845170769|6.2766434893416445| 6.169610732491456| 6.616065185132817|           0.0|       1.0|[8.0,0.9553456450...|\n",
      "+--------+---------+----+-----+------------------+-------+------------------+------------------+------------------+------------------+--------------+----------+--------------------+\n",
      "only showing top 20 rows\n",
      "\n"
     ]
    }
   ],
   "source": [
    "transformed.show()"
   ]
  },
  {
   "cell_type": "code",
   "execution_count": 19,
   "metadata": {},
   "outputs": [
    {
     "name": "stdout",
     "output_type": "stream",
     "text": [
      "root\n",
      " |-- store_id: string (nullable = true)\n",
      " |-- dept_id: string (nullable = true)\n",
      " |-- year: integer (nullable = true)\n",
      " |-- month: integer (nullable = true)\n",
      " |-- sell_price: double (nullable = false)\n",
      " |-- snap_WI: long (nullable = true)\n",
      " |-- sales: double (nullable = false)\n",
      " |-- lag_1: double (nullable = false)\n",
      " |-- lag_2: double (nullable = false)\n",
      " |-- lag_3: double (nullable = false)\n",
      " |-- store_id_index: double (nullable = false)\n",
      " |-- year_index: double (nullable = false)\n",
      " |-- features: vector (nullable = true)\n",
      "\n"
     ]
    }
   ],
   "source": [
    "transformed.printSchema()"
   ]
  },
  {
   "cell_type": "code",
   "execution_count": 20,
   "metadata": {},
   "outputs": [],
   "source": [
    "antilogtransformer = AntiLog(inputCols=[\"sales\"])"
   ]
  },
  {
   "cell_type": "code",
   "execution_count": 21,
   "metadata": {},
   "outputs": [
    {
     "name": "stdout",
     "output_type": "stream",
     "text": [
      "+--------+---------+----+-----+------------------+-------+------------------+------------------+------------------+------------------+--------------+----------+--------------------+\n",
      "|store_id|  dept_id|year|month|        sell_price|snap_WI|             sales|             lag_1|             lag_2|             lag_3|store_id_index|year_index|            features|\n",
      "+--------+---------+----+-----+------------------+-------+------------------+------------------+------------------+------------------+--------------+----------+--------------------+\n",
      "|    CA_1|HOBBIES_2|2011|    1| 0.955345645099547|      0|              43.0|               0.0|               0.0|               0.0|           0.0|       0.0|(8,[0,1],[1.0,0.9...|\n",
      "|    CA_1|HOBBIES_2|2011|    2|0.9553456450995472|   1490| 356.9999999999999|3.7612001156935624|               0.0|               0.0|           0.0|       0.0|(8,[0,1,2,3],[2.0...|\n",
      "|    CA_1|HOBBIES_2|2011|    3|0.9553456450995466|   1490| 615.9999999999998| 5.877735781779639|3.7612001156935624|               0.0|           0.0|       0.0|[3.0,0.9553456450...|\n",
      "|    CA_1|HOBBIES_2|2011|    4|0.9553456450995481|   1490| 624.9999999999998| 6.423246963533519| 5.877735781779639|3.7612001156935624|           0.0|       0.0|[4.0,0.9553456450...|\n",
      "|    CA_1|HOBBIES_2|2011|    5|0.9553456450995466|   1490| 696.0000000000002| 6.437751649736401| 6.423246963533519| 5.877735781779639|           0.0|       0.0|[5.0,0.9553456450...|\n",
      "|    CA_1|HOBBIES_2|2011|    6|0.9553456450995481|   1490|             645.0|  6.54534966033442| 6.437751649736401| 6.423246963533519|           0.0|       0.0|[6.0,0.9553456450...|\n",
      "|    CA_1|HOBBIES_2|2011|    7|0.9553456450995466|   1490| 484.0000000000002|6.4692503167957724|  6.54534966033442| 6.437751649736401|           0.0|       0.0|[7.0,0.9553456450...|\n",
      "|    CA_1|HOBBIES_2|2011|    8|0.9553456450995466|   1490| 412.0000000000001| 6.182084906716632|6.4692503167957724|  6.54534966033442|           0.0|       0.0|[8.0,0.9553456450...|\n",
      "|    CA_1|HOBBIES_2|2011|    9|0.9553456450995481|   1490| 351.9999999999999| 6.021023349349527| 6.182084906716632|6.4692503167957724|           0.0|       0.0|[9.0,0.9553456450...|\n",
      "|    CA_1|HOBBIES_2|2011|   10|0.9553456450995466|   1490| 680.0000000000003| 5.863631175598097| 6.021023349349527| 6.182084906716632|           0.0|       0.0|[10.0,0.955345645...|\n",
      "|    CA_1|HOBBIES_2|2011|   11|0.9553456450995481|   1490|402.99999999999983| 6.522092798170153| 5.863631175598097| 6.021023349349527|           0.0|       0.0|[11.0,0.955345645...|\n",
      "|    CA_1|HOBBIES_2|2011|   12|0.9553456450995466|   1490| 721.9999999999998| 5.998936561946683| 6.522092798170153| 5.863631175598097|           0.0|       0.0|[12.0,0.955345645...|\n",
      "|    CA_1|HOBBIES_2|2012|    1|0.9553456450995466|   1490|             445.0| 6.582025138892826| 5.998936561946683| 6.522092798170153|           0.0|       1.0|[1.0,0.9553456450...|\n",
      "|    CA_1|HOBBIES_2|2012|    2| 0.955345645099547|   1490| 563.0000000000001|  6.09807428216624| 6.582025138892826| 5.998936561946683|           0.0|       1.0|[2.0,0.9553456450...|\n",
      "|    CA_1|HOBBIES_2|2012|    3|0.9553456450995466|   1490| 725.9999999999998| 6.333279628139691|  6.09807428216624| 6.582025138892826|           0.0|       1.0|[3.0,0.9553456450...|\n",
      "|    CA_1|HOBBIES_2|2012|    4|0.9553456450995481|   1490| 534.0000000000001| 6.587550014824796| 6.333279628139691|  6.09807428216624|           0.0|       1.0|[4.0,0.9553456450...|\n",
      "|    CA_1|HOBBIES_2|2012|    5|0.9553456450995466|   1490|             747.0| 6.280395838960195| 6.587550014824796| 6.333279628139691|           0.0|       1.0|[5.0,0.9553456450...|\n",
      "|    CA_1|HOBBIES_2|2012|    6|0.9553456450995481|   1490| 478.0000000000002| 6.616065185132817| 6.280395838960195| 6.587550014824796|           0.0|       1.0|[6.0,0.9553456450...|\n",
      "|    CA_1|HOBBIES_2|2012|    7|0.9553456450995466|   1490| 532.0000000000001| 6.169610732491456| 6.616065185132817| 6.280395838960195|           0.0|       1.0|[7.0,0.9553456450...|\n",
      "|    CA_1|HOBBIES_2|2012|    8|0.9553456450995466|   1490| 512.9999999999999|6.2766434893416445| 6.169610732491456| 6.616065185132817|           0.0|       1.0|[8.0,0.9553456450...|\n",
      "+--------+---------+----+-----+------------------+-------+------------------+------------------+------------------+------------------+--------------+----------+--------------------+\n",
      "only showing top 20 rows\n",
      "\n"
     ]
    }
   ],
   "source": [
    "transformered = antilogtransformer.transform(transformed)\n",
    "transformered.show()"
   ]
  },
  {
   "cell_type": "markdown",
   "metadata": {},
   "source": [
    "# Random Forest Training #"
   ]
  },
  {
   "cell_type": "code",
   "execution_count": 17,
   "metadata": {},
   "outputs": [],
   "source": [
    "spliting = DataPreparation()"
   ]
  },
  {
   "cell_type": "code",
   "execution_count": 18,
   "metadata": {},
   "outputs": [],
   "source": [
    "train_df, test_df = spliting.train_test_split(transformed, 2015)"
   ]
  },
  {
   "cell_type": "markdown",
   "metadata": {},
   "source": [
    "# RANDOM FOREST TRAINING #"
   ]
  },
  {
   "cell_type": "code",
   "execution_count": 19,
   "metadata": {},
   "outputs": [
    {
     "name": "stdout",
     "output_type": "stream",
     "text": [
      "mape score: 0.014296464076371815\n",
      "mape score:                                          \n",
      "0.012363409278122416                                 \n",
      "mape score:                                                                       \n",
      "0.017994850354753577                                                              \n",
      "mape score:                                                                       \n",
      "0.012041132070446532                                                              \n",
      "mape score:                                                                       \n",
      "0.014064548120648633                                                              \n",
      "mape score:                                                                       \n",
      "0.011038194405677488                                                              \n",
      "100%|██████████| 5/5 [12:25<00:00, 149.07s/trial, best loss: 0.011038194405677488]\n",
      "{'maxBins': 39.0, 'maxDepth': 10.0, 'numTrees': 65.0, 'subsamplingRate': 0.9}\n"
     ]
    }
   ],
   "source": [
    "rfModel = RandomForest(featuresCol=\"features\", labelCol=\"sales\").fit(train_df)"
   ]
  },
  {
   "cell_type": "code",
   "execution_count": 23,
   "metadata": {},
   "outputs": [],
   "source": [
    "rfModel.save(\"rfmodel.sav\")"
   ]
  },
  {
   "cell_type": "code",
   "execution_count": 25,
   "metadata": {},
   "outputs": [],
   "source": [
    "rf_prediction = rfModel.transform(test_df)"
   ]
  },
  {
   "cell_type": "code",
   "execution_count": 26,
   "metadata": {},
   "outputs": [
    {
     "name": "stdout",
     "output_type": "stream",
     "text": [
      "+--------+----+-----+-----------------+-----------------+\n",
      "|store_id|year|month|            sales|       prediction|\n",
      "+--------+----+-----+-----------------+-----------------+\n",
      "|    CA_1|2015|    1|7.065613363597717|7.544214479794464|\n",
      "|    CA_1|2015|    2| 7.00033446027523|6.946529825313822|\n",
      "|    CA_1|2015|    3|7.212294468500341| 6.62432624982336|\n",
      "|    CA_1|2015|    4|7.355641102974253|7.329366636250969|\n",
      "|    CA_1|2015|    5|7.315218389752975|7.366029644624244|\n",
      "|    CA_1|2015|    6|7.097548850614793|7.343149957590786|\n",
      "|    CA_1|2015|    7|7.123672785204607|7.369674197563143|\n",
      "|    CA_1|2015|    8|7.136483208590247|7.412908428746474|\n",
      "|    CA_1|2015|    9|6.954638864880987|7.380855663822053|\n",
      "|    CA_1|2015|   10|7.500529485395295|6.657383137102154|\n",
      "+--------+----+-----+-----------------+-----------------+\n",
      "only showing top 10 rows\n",
      "\n"
     ]
    }
   ],
   "source": [
    "rf_prediction.select([\"store_id\",\"year\",\"month\",\"sales\",\"prediction\"]).show(10)"
   ]
  },
  {
   "cell_type": "code",
   "execution_count": 28,
   "metadata": {},
   "outputs": [
    {
     "data": {
      "text/plain": [
       "['store_id',\n",
       " 'dept_id',\n",
       " 'year',\n",
       " 'month',\n",
       " 'sell_price',\n",
       " 'snap_WI',\n",
       " 'sales',\n",
       " 'lag_1',\n",
       " 'lag_2',\n",
       " 'lag_3',\n",
       " 'store_id_index',\n",
       " 'year_index',\n",
       " 'features',\n",
       " 'prediction']"
      ]
     },
     "execution_count": 28,
     "metadata": {},
     "output_type": "execute_result"
    }
   ],
   "source": [
    "rf_prediction.columns"
   ]
  },
  {
   "cell_type": "code",
   "execution_count": 29,
   "metadata": {},
   "outputs": [],
   "source": [
    "Evaluator_mape = MAPE(predictionCol=\"prediction\", labelCol=\"sales\")"
   ]
  },
  {
   "cell_type": "code",
   "execution_count": 30,
   "metadata": {},
   "outputs": [],
   "source": [
    "evaluation = Evaluator_mape.evaluate(rf_prediction)"
   ]
  },
  {
   "cell_type": "code",
   "execution_count": 31,
   "metadata": {},
   "outputs": [
    {
     "name": "stdout",
     "output_type": "stream",
     "text": [
      "Evaluation matrix Score for RFMODEL: 0.01589810353788771\n"
     ]
    }
   ],
   "source": [
    "print(\"Evaluation matrix Score for RFMODEL:\", evaluation)"
   ]
  },
  {
   "cell_type": "code",
   "execution_count": 33,
   "metadata": {},
   "outputs": [],
   "source": [
    "rf_prediction.toPandas().to_csv('forecast_randomforest_data.csv')"
   ]
  },
  {
   "cell_type": "markdown",
   "metadata": {},
   "source": [
    "# XGBOOST ESTIMATOR IMPLEMENTATION #"
   ]
  },
  {
   "cell_type": "code",
   "execution_count": 34,
   "metadata": {},
   "outputs": [
    {
     "name": "stdout",
     "output_type": "stream",
     "text": [
      "root\n",
      " |-- store_id: string (nullable = true)\n",
      " |-- dept_id: string (nullable = true)\n",
      " |-- year: integer (nullable = true)\n",
      " |-- month: integer (nullable = true)\n",
      " |-- sell_price: double (nullable = false)\n",
      " |-- snap_WI: long (nullable = true)\n",
      " |-- sales: double (nullable = false)\n",
      " |-- lag_1: double (nullable = false)\n",
      " |-- lag_2: double (nullable = false)\n",
      " |-- lag_3: double (nullable = false)\n",
      " |-- store_id_index: double (nullable = false)\n",
      " |-- year_index: double (nullable = false)\n",
      " |-- features: vector (nullable = true)\n",
      "\n"
     ]
    }
   ],
   "source": [
    "train_df.printSchema()"
   ]
  },
  {
   "cell_type": "code",
   "execution_count": 35,
   "metadata": {},
   "outputs": [
    {
     "name": "stdout",
     "output_type": "stream",
     "text": [
      "training for finding best hyper parameters\n",
      "mape score: 0.013551008682587906\n",
      "training for finding best hyper parameters            \n",
      "mape score:                                           \n",
      "0.012525305891937562                                  \n",
      "training for finding best hyper parameters            \n",
      "mape score:                                                                       \n",
      "0.04150499665162989                                                               \n",
      "training for finding best hyper parameters                                        \n",
      "mape score:                                                                       \n",
      "0.031568211067719155                                                              \n",
      "training for finding best hyper parameters                                        \n",
      "mape score:                                                                       \n",
      "0.02683252675087867                                                               \n",
      "training for finding best hyper parameters                                        \n",
      "mape score:                                                                       \n",
      "0.06247850102337868                                                               \n",
      "training for finding best hyper parameters                                        \n",
      "mape score:                                                                       \n",
      "0.041495424552438716                                                              \n",
      "training for finding best hyper parameters                                        \n",
      "mape score:                                                                       \n",
      "0.03885008588528485                                                               \n",
      "training for finding best hyper parameters                                        \n",
      "mape score:                                                                       \n",
      "0.012616931377783289                                                              \n",
      "training for finding best hyper parameters                                        \n",
      "mape score:                                                                       \n",
      "0.11039844576866234                                                               \n",
      "training for finding best hyper parameters                                        \n",
      "mape score:                                                                       \n",
      "0.08536751899428578                                                               \n",
      "100%|██████████| 10/10 [00:00<00:00, 15.03trial/s, best loss: 0.012525305891937562]\n",
      "{'colsample_bylevel': 0.38545515855241264, 'colsample_bynode': 0.15280679034399913, 'colsample_bytree': 0.26457155652830133, 'gamma': 0.427, 'learning_rate': 0.250530916039771, 'max_depth': 25, 'min_child_weight': 26.0, 'subsample': 0.8002200392226693}\n"
     ]
    }
   ],
   "source": [
    "XGBoostModel = XGBoost(inputCols=inputColumns, labelCol=\"sales\").fit(train_df)"
   ]
  },
  {
   "cell_type": "code",
   "execution_count": 36,
   "metadata": {},
   "outputs": [
    {
     "name": "stderr",
     "output_type": "stream",
     "text": [
      "C:\\Users\\muhammad.kamran01\\spark3\\python\\pyspark\\sql\\session.py:505: FutureWarning: iteritems is deprecated and will be removed in a future version. Use .items instead.\n",
      "  for column, series in pdf.iteritems():\n"
     ]
    }
   ],
   "source": [
    "pred = XGBoostModel.transform(test_df)"
   ]
  },
  {
   "cell_type": "code",
   "execution_count": 37,
   "metadata": {},
   "outputs": [
    {
     "name": "stdout",
     "output_type": "stream",
     "text": [
      "+-----+----+-----+-----------------+------------------+\n",
      "|store|year|month|       prediction|            actual|\n",
      "+-----+----+-----+-----------------+------------------+\n",
      "|  0.0| 4.0|    1|7.920180797576904| 7.065613363597717|\n",
      "|  0.0| 4.0|    2|7.973705291748047|  7.00033446027523|\n",
      "|  0.0| 4.0|    3| 8.04426383972168| 7.212294468500341|\n",
      "|  0.0| 4.0|    4|7.989631652832031| 7.355641102974253|\n",
      "|  0.0| 4.0|    5|7.922354698181152| 7.315218389752975|\n",
      "|  0.0| 4.0|    6|7.922354698181152| 7.097548850614793|\n",
      "|  0.0| 4.0|    7|7.922354698181152| 7.123672785204607|\n",
      "|  0.0| 4.0|    8|7.922354698181152| 7.136483208590247|\n",
      "|  0.0| 4.0|    9| 7.89372444152832| 6.954638864880987|\n",
      "|  0.0| 4.0|   10| 7.89372444152832| 7.500529485395295|\n",
      "|  0.0| 4.0|   11|   7.732666015625| 7.284134806195205|\n",
      "|  0.0| 4.0|   12| 7.89372444152832|7.2485040723706105|\n",
      "+-----+----+-----+-----------------+------------------+\n",
      "only showing top 12 rows\n",
      "\n"
     ]
    }
   ],
   "source": [
    "pred.show(12)"
   ]
  },
  {
   "cell_type": "code",
   "execution_count": 38,
   "metadata": {},
   "outputs": [],
   "source": [
    "pred.toPandas().to_csv('forecast_xgboost_data.csv')"
   ]
  },
  {
   "cell_type": "code",
   "execution_count": 39,
   "metadata": {},
   "outputs": [],
   "source": [
    "Evaluator_mape_xgBoost = MAPE(predictionCol=\"prediction\", labelCol=\"actual\")"
   ]
  },
  {
   "cell_type": "code",
   "execution_count": 40,
   "metadata": {},
   "outputs": [],
   "source": [
    "evaluation_xgb = Evaluator_mape_xgBoost.evaluate(pred)"
   ]
  },
  {
   "cell_type": "code",
   "execution_count": 41,
   "metadata": {},
   "outputs": [
    {
     "name": "stdout",
     "output_type": "stream",
     "text": [
      "Evaluation matrix Score for XGFMODEL: 0.02676990634890345\n"
     ]
    }
   ],
   "source": [
    "print(\"Evaluation matrix Score for XGFMODEL:\", evaluation_xgb)"
   ]
  },
  {
   "cell_type": "code",
   "execution_count": 66,
   "metadata": {},
   "outputs": [],
   "source": [
    "antilog_transformer = AntiLog(inputCols=[\"prediction\",\"sales\"])"
   ]
  },
  {
   "cell_type": "markdown",
   "metadata": {},
   "source": [
    "Saving best model\n"
   ]
  },
  {
   "cell_type": "markdown",
   "metadata": {},
   "source": [
    "# Prediction using the best model #"
   ]
  },
  {
   "cell_type": "code",
   "execution_count": null,
   "metadata": {},
   "outputs": [],
   "source": [
    "savedModel = rfModel.load(\"rfmodel.sav\")"
   ]
  },
  {
   "cell_type": "code",
   "execution_count": 68,
   "metadata": {},
   "outputs": [],
   "source": [
    "pred_best_model = savedModel.transform(test_df)"
   ]
  },
  {
   "cell_type": "code",
   "execution_count": 56,
   "metadata": {},
   "outputs": [
    {
     "name": "stdout",
     "output_type": "stream",
     "text": [
      "+--------+----+-----+------------------+-----------------+\n",
      "|store_id|year|month|             sales|       prediction|\n",
      "+--------+----+-----+------------------+-----------------+\n",
      "|    CA_1|2015|    1| 7.065613363597717|7.544214479794464|\n",
      "|    CA_1|2015|    2|  7.00033446027523|6.946529825313822|\n",
      "|    CA_1|2015|    3| 7.212294468500341| 6.62432624982336|\n",
      "|    CA_1|2015|    4| 7.355641102974253|7.329366636250969|\n",
      "|    CA_1|2015|    5| 7.315218389752975|7.366029644624244|\n",
      "|    CA_1|2015|    6| 7.097548850614793|7.343149957590786|\n",
      "|    CA_1|2015|    7| 7.123672785204607|7.369674197563143|\n",
      "|    CA_1|2015|    8| 7.136483208590247|7.412908428746474|\n",
      "|    CA_1|2015|    9| 6.954638864880987|7.380855663822053|\n",
      "|    CA_1|2015|   10| 7.500529485395295|6.657383137102154|\n",
      "|    CA_1|2015|   11| 7.284134806195205|7.419557355947075|\n",
      "|    CA_1|2015|   12|7.2485040723706105|7.662119457445414|\n",
      "+--------+----+-----+------------------+-----------------+\n",
      "only showing top 12 rows\n",
      "\n"
     ]
    }
   ],
   "source": [
    "pred_best_model.select([\"store_id\",\"year\",\"month\",\"sales\",\"prediction\"]).show(12)"
   ]
  }
 ],
 "metadata": {
  "kernelspec": {
   "display_name": "Python 3.9.13 64-bit",
   "language": "python",
   "name": "python3"
  },
  "language_info": {
   "codemirror_mode": {
    "name": "ipython",
    "version": 3
   },
   "file_extension": ".py",
   "mimetype": "text/x-python",
   "name": "python",
   "nbconvert_exporter": "python",
   "pygments_lexer": "ipython3",
   "version": "3.9.13"
  },
  "orig_nbformat": 4,
  "vscode": {
   "interpreter": {
    "hash": "1b93898b9253904288df13a2bfa30ad60602e1c62b3892988ef0a02f0b401d94"
   }
  }
 },
 "nbformat": 4,
 "nbformat_minor": 2
}
